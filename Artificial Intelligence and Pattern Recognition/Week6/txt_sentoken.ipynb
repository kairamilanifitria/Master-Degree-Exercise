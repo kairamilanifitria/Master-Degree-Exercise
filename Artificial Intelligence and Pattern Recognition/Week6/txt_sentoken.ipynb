{
 "cells": [
  {
   "cell_type": "code",
   "execution_count": 1,
   "id": "8f1cbcce",
   "metadata": {},
   "outputs": [
    {
     "name": "stderr",
     "output_type": "stream",
     "text": [
      "[nltk_data] Downloading package stopwords to\n",
      "[nltk_data]     C:\\Users\\Kaira\\AppData\\Roaming\\nltk_data...\n",
      "[nltk_data]   Unzipping corpora\\stopwords.zip.\n"
     ]
    },
    {
     "data": {
      "text/plain": [
       "True"
      ]
     },
     "execution_count": 1,
     "metadata": {},
     "output_type": "execute_result"
    }
   ],
   "source": [
    "import numpy as np\n",
    "import re\n",
    "import pickle\n",
    "import nltk\n",
    "from nltk.corpus import stopwords\n",
    "from sklearn.datasets import load_files\n",
    "nltk.download('stopwords') "
   ]
  },
  {
   "cell_type": "code",
   "execution_count": 2,
   "id": "997bb7ac",
   "metadata": {},
   "outputs": [],
   "source": [
    "#import dataset\n",
    "reviews = load_files('txt_sentoken/')"
   ]
  },
  {
   "cell_type": "code",
   "execution_count": 3,
   "id": "f6f2c3d6",
   "metadata": {},
   "outputs": [],
   "source": [
    "#membagi data/teks dan target/kelasnya\n",
    "X,y = reviews.data, reviews.target "
   ]
  },
  {
   "cell_type": "code",
   "execution_count": 4,
   "id": "ead42d1a",
   "metadata": {},
   "outputs": [],
   "source": [
    "#create/preprocessing corpus\n",
    "corpus = []\n",
    "for i in range(0, len(X)):\n",
    "    #ganti karakter non word (tanda baca dll) dg spasi\n",
    "    review = re.sub(r'\\W',' ', str(X[i]))\n",
    "    #ganti karakter tunggal dg spasi\n",
    "    review = re.sub(r'\\s+[a-z]\\s+',' ',review)\n",
    "    #ganti huruf tunggal di awal kalimat dg spasi\n",
    "    review = re.sub(r'^[a-z]\\s+',' ',review)\n",
    "     #ganti spasi extra dg spasi tunggal\n",
    "    review = re.sub(r'\\s+',' ',review)\n",
    "     #masukkan di list corpus\n",
    "    corpus.append(review)  "
   ]
  },
  {
   "cell_type": "code",
   "execution_count": 5,
   "id": "734be655",
   "metadata": {},
   "outputs": [
    {
     "data": {
      "text/plain": [
       "2000"
      ]
     },
     "execution_count": 5,
     "metadata": {},
     "output_type": "execute_result"
    }
   ],
   "source": [
    "len (corpus)"
   ]
  },
  {
   "cell_type": "code",
   "execution_count": 6,
   "id": "bb33ae34",
   "metadata": {},
   "outputs": [
    {
     "data": {
      "text/plain": [
       "' arnold schwarzenegger has been an icon for action enthusiasts since the late 80 but lately his films have been very sloppy and the one liners are getting worse nit hard seeing arnold as mr freeze in batman and robin especially when he says tons of ice jokes but hey he got 15 million what it matter to him nonce again arnold has signed to do another expensive blockbuster that can compare with the likes of the terminator series true lies and even eraser nin this so called dark thriller the devil gabriel byrne has come upon earth to impregnate woman robin tunney which happens every 1000 years and basically destroy the world but apparently god has chosen one man and that one man is jericho cane arnold himself nwith the help of trusty sidekick kevin pollack they will stop at nothing to let the devil take over the world nparts of this are actually so absurd that they would fit right in with dogma nyes the film is that weak but it better than the other blockbuster right now sleepy hollow but it makes the world is not enough look like 4 star film nanyway this definitely doesn seem like an arnold movie nit just wasn the type of film you can see him doing nsure he gave us few chuckles with his well known one liners but he seemed confused as to where his character and the film was going nit understandable especially when the ending had to be changed according to some sources naside form that he still walked through it much like he has in the past few films ni sorry to say this arnold but maybe these are the end of your action days nspeaking of action where was it in this film nthere was hardly any explosions or fights nthe devil made few places explode but arnold wasn kicking some devil butt nthe ending was changed to make it more spiritual which undoubtedly ruined the film ni was at least hoping for cool ending if nothing else occurred but once again was let down ni also don know why the film took so long and cost so much nthere was really no super affects at all unless you consider an invisible devil who was in it for 5 minutes tops worth the overpriced budget nthe budget should have gone into better script where at least audiences could be somewhat entertained instead of facing boredom nit pitiful to see how scripts like these get bought and made into movie ndo they even read these things anymore nit sure doesn seem like it nthankfully gabriel performance gave some light to this poor film nwhen he walks down the street searching for robin tunney you can help but feel that he looked like devil nthe guy is creepy looking anyway nwhen it all over you re just glad it the end of the movie ndon bother to see this if you re expecting solid action flick because it neither solid nor does it have action nit just another movie that we are suckered in to seeing due to strategic marketing campaign nsave your money and see the world is not enough for an entertaining experience '"
      ]
     },
     "execution_count": 6,
     "metadata": {},
     "output_type": "execute_result"
    }
   ],
   "source": [
    "# contoh isi dokumen \n",
    "corpus [0]"
   ]
  },
  {
   "cell_type": "code",
   "execution_count": 7,
   "id": "5fb9bb83",
   "metadata": {},
   "outputs": [],
   "source": [
    "#Membangun model BOW (bow hanya melihat frekuensi, tanpa melihat posisi)\n",
    "from sklearn.feature_extraction.text import CountVectorizer\n",
    "#membuat vektor BOW, max_features=jumlah n kata terpenting\n",
    "#min_df = jumlah kata yg kurang dr ini diabaikan\n",
    "#max_df = 0.6 -> jika kata muncul di lebih dari 60% dok,\n",
    "#maka kata diabaikan\n",
    "# stopwords membuang kata yang tidak penting\n",
    "vectorizer = CountVectorizer(max_features=2000, min_df=3, max_df=0.6, stop_words=stopwords.words('english')) "
   ]
  },
  {
   "cell_type": "code",
   "execution_count": 8,
   "id": "94f5cd7d",
   "metadata": {},
   "outputs": [],
   "source": [
    "#membuat matrix BOW (baris=dokumen, col=kata terpenting)\n",
    "# setiap dokumen akan memiliki vektor \n",
    "X = vectorizer.fit_transform(corpus).toarray()"
   ]
  },
  {
   "cell_type": "code",
   "execution_count": 9,
   "id": "94c32a34",
   "metadata": {},
   "outputs": [
    {
     "data": {
      "text/plain": [
       "2000"
      ]
     },
     "execution_count": 9,
     "metadata": {},
     "output_type": "execute_result"
    }
   ],
   "source": [
    "len (X)"
   ]
  },
  {
   "cell_type": "code",
   "execution_count": 10,
   "id": "2cd67eea",
   "metadata": {},
   "outputs": [],
   "source": [
    "#mentransfer dari model BOW menjadi model TfIdf\n",
    "# model tf-idf juga termasuk model bahasa, yg lebih baik dari bow\n",
    "Xt = X\n",
    "from sklearn.feature_extraction.text import TfidfTransformer\n",
    "transformer = TfidfTransformer()\n",
    "Xt = transformer.fit_transform(X).toarray() "
   ]
  },
  {
   "cell_type": "code",
   "execution_count": 11,
   "id": "f9cb09ce",
   "metadata": {},
   "outputs": [],
   "source": [
    "#membuat test set dan training set\n",
    "from sklearn.model_selection import train_test_split\n",
    "text_train,text_test, sent_train, sent_test = train_test_split(Xt,y,test_size=0.2,random_state=0)\n",
    "#ket:\n",
    "#text_train = text untuk learning\n",
    "#text_test = text untuk testing\n",
    "#sent_train = kelas dokumen untuk training\n",
    "#sent_test = kelas dokumen untuk testing"
   ]
  },
  {
   "cell_type": "code",
   "execution_count": 12,
   "id": "b2769151",
   "metadata": {},
   "outputs": [
    {
     "data": {
      "text/plain": [
       "LogisticRegression()"
      ]
     },
     "execution_count": 12,
     "metadata": {},
     "output_type": "execute_result"
    }
   ],
   "source": [
    "#membangun classifier dg algoritma logistic regression\n",
    "from sklearn.linear_model import LogisticRegression\n",
    "classifier = LogisticRegression()\n",
    "classifier.fit(text_train,sent_train) "
   ]
  },
  {
   "cell_type": "code",
   "execution_count": 13,
   "id": "c4f58258",
   "metadata": {},
   "outputs": [
    {
     "name": "stdout",
     "output_type": "stream",
     "text": [
      "[[168  40]\n",
      " [ 21 171]]\n",
      "              precision    recall  f1-score   support\n",
      "\n",
      "           0       0.89      0.81      0.85       208\n",
      "           1       0.81      0.89      0.85       192\n",
      "\n",
      "    accuracy                           0.85       400\n",
      "   macro avg       0.85      0.85      0.85       400\n",
      "weighted avg       0.85      0.85      0.85       400\n",
      "\n",
      "0.8475\n"
     ]
    }
   ],
   "source": [
    "# menguji akurasi classifier\n",
    "# hasil prediksi kelas disimpan di sent_pred\n",
    "sent_pred = classifier.predict(text_test)\n",
    "from sklearn.metrics import classification_report, confusion_matrix, accuracy_score\n",
    "print(confusion_matrix(sent_test,sent_pred))\n",
    "print(classification_report(sent_test,sent_pred))\n",
    "print(accuracy_score(sent_test,sent_pred)) "
   ]
  },
  {
   "cell_type": "code",
   "execution_count": 14,
   "id": "1d1edc59",
   "metadata": {},
   "outputs": [
    {
     "name": "stdout",
     "output_type": "stream",
     "text": [
      "[[168  40]\n",
      " [ 21 171]]\n"
     ]
    }
   ],
   "source": [
    "cm = confusion_matrix(sent_test, sent_pred)\n",
    "print(cm) "
   ]
  },
  {
   "cell_type": "code",
   "execution_count": null,
   "id": "e42f8645",
   "metadata": {},
   "outputs": [],
   "source": []
  }
 ],
 "metadata": {
  "kernelspec": {
   "display_name": "Python 3 (ipykernel)",
   "language": "python",
   "name": "python3"
  },
  "language_info": {
   "codemirror_mode": {
    "name": "ipython",
    "version": 3
   },
   "file_extension": ".py",
   "mimetype": "text/x-python",
   "name": "python",
   "nbconvert_exporter": "python",
   "pygments_lexer": "ipython3",
   "version": "3.9.13"
  }
 },
 "nbformat": 4,
 "nbformat_minor": 5
}
